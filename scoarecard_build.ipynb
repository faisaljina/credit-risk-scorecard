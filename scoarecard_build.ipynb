{
 "cells": [
  {
   "cell_type": "code",
   "execution_count": null,
   "metadata": {},
   "outputs": [],
   "source": [
    "import numpy as np\n",
    "import pandas as pd\n",
    "import seaborn as sns\n",
    "import matplotlib.pyplot as plt\n",
    "import lightgbm as lgb\n",
    "import scorecardpy as sc\n",
    "from sklearn.model_selection import train_test_split\n",
    "from sklearn.impute import SimpleImputer\n",
    "from sklearn.preprocessing import StandardScaler, LabelEncoder\n",
    "from sklearn.linear_model import LogisticRegression\n",
    "from sklearn.metrics import roc_curve, roc_auc_score, confusion_matrix, accuracy_score, precision_score, recall_score, f1_score\n",
    "from statsmodels.stats.outliers_influence import variance_inflation_factor"
   ]
  },
  {
   "cell_type": "code",
   "execution_count": 3,
   "metadata": {},
   "outputs": [],
   "source": [
    "pd.set_option('display.max_columns', 100)\n",
    "pd.set_option('display.max_rows', 100)"
   ]
  },
  {
   "cell_type": "markdown",
   "metadata": {},
   "source": [
    "# Load"
   ]
  },
  {
   "cell_type": "code",
   "execution_count": 4,
   "metadata": {},
   "outputs": [],
   "source": [
    "# Load datasets\n",
    "data_loc = \"data/\"\n",
    "\n",
    "samples = pd.read_csv(data_loc + 'samples.csv')\n",
    "hold_out = pd.read_csv(data_loc + 'hold_out.csv')"
   ]
  },
  {
   "cell_type": "code",
   "execution_count": 5,
   "metadata": {},
   "outputs": [
    {
     "data": {
      "text/html": [
       "<div>\n",
       "<style scoped>\n",
       "    .dataframe tbody tr th:only-of-type {\n",
       "        vertical-align: middle;\n",
       "    }\n",
       "\n",
       "    .dataframe tbody tr th {\n",
       "        vertical-align: top;\n",
       "    }\n",
       "\n",
       "    .dataframe thead th {\n",
       "        text-align: right;\n",
       "    }\n",
       "</style>\n",
       "<table border=\"1\" class=\"dataframe\">\n",
       "  <thead>\n",
       "    <tr style=\"text-align: right;\">\n",
       "      <th></th>\n",
       "      <th>ID</th>\n",
       "      <th>application_date</th>\n",
       "      <th>generic_score</th>\n",
       "      <th>generic_score2</th>\n",
       "      <th>generic_score3</th>\n",
       "      <th>generic_score4</th>\n",
       "      <th>income_trend_score</th>\n",
       "      <th>indebtedness_score</th>\n",
       "      <th>loan_amount</th>\n",
       "      <th>loan_term</th>\n",
       "      <th>aggregator_group</th>\n",
       "      <th>age</th>\n",
       "      <th>region</th>\n",
       "      <th>social_accounts</th>\n",
       "      <th>social_score</th>\n",
       "      <th>job_sector</th>\n",
       "      <th>associate_flag</th>\n",
       "      <th>mortgage_flag</th>\n",
       "      <th>num_searches</th>\n",
       "      <th>num_accounts_closed</th>\n",
       "      <th>num_transactions</th>\n",
       "      <th>num_pi_records</th>\n",
       "      <th>num_months_pi_recorded</th>\n",
       "      <th>num_defaults</th>\n",
       "      <th>num_months_since_last_default</th>\n",
       "      <th>num_settled_good</th>\n",
       "      <th>num_settled_good_l6m</th>\n",
       "      <th>num_delinquents</th>\n",
       "      <th>num_of_revolving_accounts</th>\n",
       "      <th>outcome</th>\n",
       "    </tr>\n",
       "  </thead>\n",
       "  <tbody>\n",
       "    <tr>\n",
       "      <th>0</th>\n",
       "      <td>44486</td>\n",
       "      <td>2021-06</td>\n",
       "      <td>1119</td>\n",
       "      <td>582</td>\n",
       "      <td>723</td>\n",
       "      <td>1.44</td>\n",
       "      <td>1.17</td>\n",
       "      <td>2</td>\n",
       "      <td>2600</td>\n",
       "      <td>48</td>\n",
       "      <td>Best Loans Warehouse</td>\n",
       "      <td>47</td>\n",
       "      <td>Scotland</td>\n",
       "      <td>1</td>\n",
       "      <td>29</td>\n",
       "      <td>3.0</td>\n",
       "      <td>1</td>\n",
       "      <td>0</td>\n",
       "      <td>-2</td>\n",
       "      <td>2</td>\n",
       "      <td>73.0</td>\n",
       "      <td>0</td>\n",
       "      <td>0</td>\n",
       "      <td>0</td>\n",
       "      <td>0</td>\n",
       "      <td>9</td>\n",
       "      <td>6</td>\n",
       "      <td>0</td>\n",
       "      <td>0</td>\n",
       "      <td>0</td>\n",
       "    </tr>\n",
       "    <tr>\n",
       "      <th>1</th>\n",
       "      <td>24045</td>\n",
       "      <td>2021-07</td>\n",
       "      <td>1012</td>\n",
       "      <td>561</td>\n",
       "      <td>1282</td>\n",
       "      <td>-1.30</td>\n",
       "      <td>0.61</td>\n",
       "      <td>-2</td>\n",
       "      <td>3000</td>\n",
       "      <td>24</td>\n",
       "      <td>Best Loans Warehouse</td>\n",
       "      <td>27</td>\n",
       "      <td>East of England</td>\n",
       "      <td>6</td>\n",
       "      <td>91</td>\n",
       "      <td>5.0</td>\n",
       "      <td>0</td>\n",
       "      <td>0</td>\n",
       "      <td>-2</td>\n",
       "      <td>0</td>\n",
       "      <td>NaN</td>\n",
       "      <td>0</td>\n",
       "      <td>0</td>\n",
       "      <td>0</td>\n",
       "      <td>0</td>\n",
       "      <td>5</td>\n",
       "      <td>2</td>\n",
       "      <td>0</td>\n",
       "      <td>0</td>\n",
       "      <td>0</td>\n",
       "    </tr>\n",
       "    <tr>\n",
       "      <th>2</th>\n",
       "      <td>48529</td>\n",
       "      <td>2020-12</td>\n",
       "      <td>927</td>\n",
       "      <td>615</td>\n",
       "      <td>367</td>\n",
       "      <td>-1.19</td>\n",
       "      <td>0.16</td>\n",
       "      <td>6</td>\n",
       "      <td>3000</td>\n",
       "      <td>60</td>\n",
       "      <td>Best Loans Warehouse</td>\n",
       "      <td>32</td>\n",
       "      <td>South West</td>\n",
       "      <td>0</td>\n",
       "      <td>10</td>\n",
       "      <td>8.0</td>\n",
       "      <td>0</td>\n",
       "      <td>0</td>\n",
       "      <td>-2</td>\n",
       "      <td>0</td>\n",
       "      <td>35.0</td>\n",
       "      <td>0</td>\n",
       "      <td>0</td>\n",
       "      <td>0</td>\n",
       "      <td>0</td>\n",
       "      <td>4</td>\n",
       "      <td>0</td>\n",
       "      <td>0</td>\n",
       "      <td>0</td>\n",
       "      <td>0</td>\n",
       "    </tr>\n",
       "    <tr>\n",
       "      <th>3</th>\n",
       "      <td>50879</td>\n",
       "      <td>2020-08</td>\n",
       "      <td>900</td>\n",
       "      <td>938</td>\n",
       "      <td>542</td>\n",
       "      <td>1.16</td>\n",
       "      <td>0.01</td>\n",
       "      <td>2</td>\n",
       "      <td>2800</td>\n",
       "      <td>12</td>\n",
       "      <td>Loan Saving Expert</td>\n",
       "      <td>27</td>\n",
       "      <td>Yorkshire and The Humber</td>\n",
       "      <td>0</td>\n",
       "      <td>12</td>\n",
       "      <td>2.0</td>\n",
       "      <td>0</td>\n",
       "      <td>0</td>\n",
       "      <td>-2</td>\n",
       "      <td>0</td>\n",
       "      <td>60.0</td>\n",
       "      <td>0</td>\n",
       "      <td>0</td>\n",
       "      <td>1</td>\n",
       "      <td>72</td>\n",
       "      <td>9</td>\n",
       "      <td>1</td>\n",
       "      <td>1</td>\n",
       "      <td>1</td>\n",
       "      <td>0</td>\n",
       "    </tr>\n",
       "    <tr>\n",
       "      <th>4</th>\n",
       "      <td>41672</td>\n",
       "      <td>2020-09</td>\n",
       "      <td>951</td>\n",
       "      <td>713</td>\n",
       "      <td>1283</td>\n",
       "      <td>1.22</td>\n",
       "      <td>0.28</td>\n",
       "      <td>5</td>\n",
       "      <td>2000</td>\n",
       "      <td>24</td>\n",
       "      <td>Other</td>\n",
       "      <td>25</td>\n",
       "      <td>London</td>\n",
       "      <td>3</td>\n",
       "      <td>43</td>\n",
       "      <td>5.0</td>\n",
       "      <td>0</td>\n",
       "      <td>0</td>\n",
       "      <td>1</td>\n",
       "      <td>5</td>\n",
       "      <td>98.0</td>\n",
       "      <td>0</td>\n",
       "      <td>0</td>\n",
       "      <td>0</td>\n",
       "      <td>0</td>\n",
       "      <td>3</td>\n",
       "      <td>0</td>\n",
       "      <td>0</td>\n",
       "      <td>0</td>\n",
       "      <td>0</td>\n",
       "    </tr>\n",
       "  </tbody>\n",
       "</table>\n",
       "</div>"
      ],
      "text/plain": [
       "      ID application_date  generic_score  generic_score2  generic_score3  \\\n",
       "0  44486          2021-06           1119             582             723   \n",
       "1  24045          2021-07           1012             561            1282   \n",
       "2  48529          2020-12            927             615             367   \n",
       "3  50879          2020-08            900             938             542   \n",
       "4  41672          2020-09            951             713            1283   \n",
       "\n",
       "   generic_score4  income_trend_score  indebtedness_score  loan_amount  \\\n",
       "0            1.44                1.17                   2         2600   \n",
       "1           -1.30                0.61                  -2         3000   \n",
       "2           -1.19                0.16                   6         3000   \n",
       "3            1.16                0.01                   2         2800   \n",
       "4            1.22                0.28                   5         2000   \n",
       "\n",
       "   loan_term      aggregator_group  age                    region  \\\n",
       "0         48  Best Loans Warehouse   47                  Scotland   \n",
       "1         24  Best Loans Warehouse   27           East of England   \n",
       "2         60  Best Loans Warehouse   32                South West   \n",
       "3         12    Loan Saving Expert   27  Yorkshire and The Humber   \n",
       "4         24                 Other   25                    London   \n",
       "\n",
       "   social_accounts  social_score  job_sector  associate_flag  mortgage_flag  \\\n",
       "0                1            29         3.0               1              0   \n",
       "1                6            91         5.0               0              0   \n",
       "2                0            10         8.0               0              0   \n",
       "3                0            12         2.0               0              0   \n",
       "4                3            43         5.0               0              0   \n",
       "\n",
       "   num_searches  num_accounts_closed  num_transactions  num_pi_records  \\\n",
       "0            -2                    2              73.0               0   \n",
       "1            -2                    0               NaN               0   \n",
       "2            -2                    0              35.0               0   \n",
       "3            -2                    0              60.0               0   \n",
       "4             1                    5              98.0               0   \n",
       "\n",
       "   num_months_pi_recorded  num_defaults  num_months_since_last_default  \\\n",
       "0                       0             0                              0   \n",
       "1                       0             0                              0   \n",
       "2                       0             0                              0   \n",
       "3                       0             1                             72   \n",
       "4                       0             0                              0   \n",
       "\n",
       "   num_settled_good  num_settled_good_l6m  num_delinquents  \\\n",
       "0                 9                     6                0   \n",
       "1                 5                     2                0   \n",
       "2                 4                     0                0   \n",
       "3                 9                     1                1   \n",
       "4                 3                     0                0   \n",
       "\n",
       "   num_of_revolving_accounts  outcome  \n",
       "0                          0        0  \n",
       "1                          0        0  \n",
       "2                          0        0  \n",
       "3                          1        0  \n",
       "4                          0        0  "
      ]
     },
     "execution_count": 5,
     "metadata": {},
     "output_type": "execute_result"
    }
   ],
   "source": [
    "samples.head()"
   ]
  },
  {
   "cell_type": "markdown",
   "metadata": {},
   "source": [
    "# Explore"
   ]
  },
  {
   "cell_type": "code",
   "execution_count": 6,
   "metadata": {},
   "outputs": [
    {
     "data": {
      "text/plain": [
       "2020-08    843\n",
       "2020-12    821\n",
       "2020-01    805\n",
       "2021-12    804\n",
       "2020-06    803\n",
       "2020-05    789\n",
       "2021-07    788\n",
       "2021-08    785\n",
       "2021-05    784\n",
       "2021-01    783\n",
       "2020-10    774\n",
       "2020-04    767\n",
       "2021-10    764\n",
       "2021-03    762\n",
       "2020-11    755\n",
       "2020-03    749\n",
       "2020-07    743\n",
       "2021-06    742\n",
       "2021-11    737\n",
       "2021-04    736\n",
       "2020-02    720\n",
       "2021-02    709\n",
       "2020-09    697\n",
       "2021-09    693\n",
       "Name: application_date, dtype: int64"
      ]
     },
     "execution_count": 6,
     "metadata": {},
     "output_type": "execute_result"
    }
   ],
   "source": [
    "samples.application_date.value_counts()"
   ]
  },
  {
   "cell_type": "code",
   "execution_count": 7,
   "metadata": {},
   "outputs": [
    {
     "data": {
      "text/html": [
       "<div>\n",
       "<style scoped>\n",
       "    .dataframe tbody tr th:only-of-type {\n",
       "        vertical-align: middle;\n",
       "    }\n",
       "\n",
       "    .dataframe tbody tr th {\n",
       "        vertical-align: top;\n",
       "    }\n",
       "\n",
       "    .dataframe thead th {\n",
       "        text-align: right;\n",
       "    }\n",
       "</style>\n",
       "<table border=\"1\" class=\"dataframe\">\n",
       "  <thead>\n",
       "    <tr style=\"text-align: right;\">\n",
       "      <th></th>\n",
       "      <th>ID</th>\n",
       "      <th>generic_score</th>\n",
       "      <th>generic_score2</th>\n",
       "      <th>generic_score3</th>\n",
       "      <th>generic_score4</th>\n",
       "      <th>income_trend_score</th>\n",
       "      <th>indebtedness_score</th>\n",
       "      <th>loan_amount</th>\n",
       "      <th>loan_term</th>\n",
       "      <th>age</th>\n",
       "      <th>social_accounts</th>\n",
       "      <th>social_score</th>\n",
       "      <th>job_sector</th>\n",
       "      <th>associate_flag</th>\n",
       "      <th>mortgage_flag</th>\n",
       "      <th>num_searches</th>\n",
       "      <th>num_accounts_closed</th>\n",
       "      <th>num_transactions</th>\n",
       "      <th>num_pi_records</th>\n",
       "      <th>num_months_pi_recorded</th>\n",
       "      <th>num_defaults</th>\n",
       "      <th>num_months_since_last_default</th>\n",
       "      <th>num_settled_good</th>\n",
       "      <th>num_settled_good_l6m</th>\n",
       "      <th>num_delinquents</th>\n",
       "      <th>num_of_revolving_accounts</th>\n",
       "      <th>outcome</th>\n",
       "    </tr>\n",
       "  </thead>\n",
       "  <tbody>\n",
       "    <tr>\n",
       "      <th>count</th>\n",
       "      <td>18353.000000</td>\n",
       "      <td>18353.000000</td>\n",
       "      <td>18353.000000</td>\n",
       "      <td>18353.000000</td>\n",
       "      <td>18353.000000</td>\n",
       "      <td>18353.000000</td>\n",
       "      <td>18353.000000</td>\n",
       "      <td>18353.000000</td>\n",
       "      <td>18353.000000</td>\n",
       "      <td>18353.000000</td>\n",
       "      <td>18353.000000</td>\n",
       "      <td>18353.000000</td>\n",
       "      <td>16856.000000</td>\n",
       "      <td>18353.000000</td>\n",
       "      <td>18353.000000</td>\n",
       "      <td>18353.000000</td>\n",
       "      <td>18353.000000</td>\n",
       "      <td>16442.000000</td>\n",
       "      <td>18353.000000</td>\n",
       "      <td>18353.000000</td>\n",
       "      <td>18353.000000</td>\n",
       "      <td>18353.000000</td>\n",
       "      <td>18353.000000</td>\n",
       "      <td>18353.000000</td>\n",
       "      <td>18353.000000</td>\n",
       "      <td>18353.000000</td>\n",
       "      <td>18353.000000</td>\n",
       "    </tr>\n",
       "    <tr>\n",
       "      <th>mean</th>\n",
       "      <td>35126.957446</td>\n",
       "      <td>895.977606</td>\n",
       "      <td>735.943442</td>\n",
       "      <td>895.011987</td>\n",
       "      <td>-0.006368</td>\n",
       "      <td>-0.007798</td>\n",
       "      <td>10.239797</td>\n",
       "      <td>7651.999782</td>\n",
       "      <td>43.218057</td>\n",
       "      <td>38.112788</td>\n",
       "      <td>3.379665</td>\n",
       "      <td>65.122977</td>\n",
       "      <td>4.036545</td>\n",
       "      <td>0.487931</td>\n",
       "      <td>0.369967</td>\n",
       "      <td>-1.240342</td>\n",
       "      <td>3.027352</td>\n",
       "      <td>49.649130</td>\n",
       "      <td>0.073939</td>\n",
       "      <td>2.860895</td>\n",
       "      <td>0.231679</td>\n",
       "      <td>7.351986</td>\n",
       "      <td>5.954394</td>\n",
       "      <td>1.877949</td>\n",
       "      <td>0.335313</td>\n",
       "      <td>1.681360</td>\n",
       "      <td>0.119762</td>\n",
       "    </tr>\n",
       "    <tr>\n",
       "      <th>std</th>\n",
       "      <td>12653.722827</td>\n",
       "      <td>188.421506</td>\n",
       "      <td>182.081405</td>\n",
       "      <td>396.009984</td>\n",
       "      <td>1.178505</td>\n",
       "      <td>0.990703</td>\n",
       "      <td>12.992998</td>\n",
       "      <td>5254.241859</td>\n",
       "      <td>16.062554</td>\n",
       "      <td>9.881282</td>\n",
       "      <td>2.119862</td>\n",
       "      <td>34.599234</td>\n",
       "      <td>2.588149</td>\n",
       "      <td>0.499868</td>\n",
       "      <td>0.482809</td>\n",
       "      <td>1.078614</td>\n",
       "      <td>2.035676</td>\n",
       "      <td>28.887918</td>\n",
       "      <td>0.329846</td>\n",
       "      <td>12.099967</td>\n",
       "      <td>0.652392</td>\n",
       "      <td>18.321960</td>\n",
       "      <td>3.016328</td>\n",
       "      <td>1.840771</td>\n",
       "      <td>0.811940</td>\n",
       "      <td>1.610886</td>\n",
       "      <td>0.324692</td>\n",
       "    </tr>\n",
       "    <tr>\n",
       "      <th>min</th>\n",
       "      <td>12951.000000</td>\n",
       "      <td>-998.000000</td>\n",
       "      <td>407.000000</td>\n",
       "      <td>-1576.000000</td>\n",
       "      <td>-1.880000</td>\n",
       "      <td>-5.000000</td>\n",
       "      <td>-3.000000</td>\n",
       "      <td>1500.000000</td>\n",
       "      <td>12.000000</td>\n",
       "      <td>21.000000</td>\n",
       "      <td>0.000000</td>\n",
       "      <td>10.000000</td>\n",
       "      <td>1.000000</td>\n",
       "      <td>0.000000</td>\n",
       "      <td>0.000000</td>\n",
       "      <td>-2.000000</td>\n",
       "      <td>0.000000</td>\n",
       "      <td>0.000000</td>\n",
       "      <td>-1.000000</td>\n",
       "      <td>-1.000000</td>\n",
       "      <td>-1.000000</td>\n",
       "      <td>-1.000000</td>\n",
       "      <td>-1.000000</td>\n",
       "      <td>-1.000000</td>\n",
       "      <td>-1.000000</td>\n",
       "      <td>-2.000000</td>\n",
       "      <td>0.000000</td>\n",
       "    </tr>\n",
       "    <tr>\n",
       "      <th>25%</th>\n",
       "      <td>24180.000000</td>\n",
       "      <td>781.000000</td>\n",
       "      <td>594.000000</td>\n",
       "      <td>590.000000</td>\n",
       "      <td>-1.160000</td>\n",
       "      <td>-0.620000</td>\n",
       "      <td>2.000000</td>\n",
       "      <td>3500.000000</td>\n",
       "      <td>30.000000</td>\n",
       "      <td>30.000000</td>\n",
       "      <td>1.000000</td>\n",
       "      <td>36.000000</td>\n",
       "      <td>2.000000</td>\n",
       "      <td>0.000000</td>\n",
       "      <td>0.000000</td>\n",
       "      <td>-2.000000</td>\n",
       "      <td>1.000000</td>\n",
       "      <td>25.000000</td>\n",
       "      <td>0.000000</td>\n",
       "      <td>0.000000</td>\n",
       "      <td>0.000000</td>\n",
       "      <td>0.000000</td>\n",
       "      <td>3.000000</td>\n",
       "      <td>0.000000</td>\n",
       "      <td>0.000000</td>\n",
       "      <td>1.000000</td>\n",
       "      <td>0.000000</td>\n",
       "    </tr>\n",
       "    <tr>\n",
       "      <th>50%</th>\n",
       "      <td>35203.000000</td>\n",
       "      <td>900.000000</td>\n",
       "      <td>699.000000</td>\n",
       "      <td>894.000000</td>\n",
       "      <td>-0.420000</td>\n",
       "      <td>0.010000</td>\n",
       "      <td>6.000000</td>\n",
       "      <td>6000.000000</td>\n",
       "      <td>48.000000</td>\n",
       "      <td>37.000000</td>\n",
       "      <td>4.000000</td>\n",
       "      <td>64.000000</td>\n",
       "      <td>3.000000</td>\n",
       "      <td>0.000000</td>\n",
       "      <td>0.000000</td>\n",
       "      <td>-2.000000</td>\n",
       "      <td>3.000000</td>\n",
       "      <td>49.000000</td>\n",
       "      <td>0.000000</td>\n",
       "      <td>0.000000</td>\n",
       "      <td>0.000000</td>\n",
       "      <td>0.000000</td>\n",
       "      <td>6.000000</td>\n",
       "      <td>1.000000</td>\n",
       "      <td>0.000000</td>\n",
       "      <td>1.000000</td>\n",
       "      <td>0.000000</td>\n",
       "    </tr>\n",
       "    <tr>\n",
       "      <th>75%</th>\n",
       "      <td>46104.000000</td>\n",
       "      <td>1028.000000</td>\n",
       "      <td>842.000000</td>\n",
       "      <td>1203.000000</td>\n",
       "      <td>1.160000</td>\n",
       "      <td>0.690000</td>\n",
       "      <td>12.000000</td>\n",
       "      <td>10000.000000</td>\n",
       "      <td>60.000000</td>\n",
       "      <td>46.000000</td>\n",
       "      <td>5.000000</td>\n",
       "      <td>92.000000</td>\n",
       "      <td>6.000000</td>\n",
       "      <td>1.000000</td>\n",
       "      <td>1.000000</td>\n",
       "      <td>0.000000</td>\n",
       "      <td>5.000000</td>\n",
       "      <td>75.000000</td>\n",
       "      <td>0.000000</td>\n",
       "      <td>0.000000</td>\n",
       "      <td>0.000000</td>\n",
       "      <td>0.000000</td>\n",
       "      <td>9.000000</td>\n",
       "      <td>3.000000</td>\n",
       "      <td>0.000000</td>\n",
       "      <td>2.000000</td>\n",
       "      <td>0.000000</td>\n",
       "    </tr>\n",
       "    <tr>\n",
       "      <th>max</th>\n",
       "      <td>56885.000000</td>\n",
       "      <td>1458.000000</td>\n",
       "      <td>1600.000000</td>\n",
       "      <td>1922.000000</td>\n",
       "      <td>1.830000</td>\n",
       "      <td>2.970000</td>\n",
       "      <td>96.000000</td>\n",
       "      <td>25000.000000</td>\n",
       "      <td>60.000000</td>\n",
       "      <td>65.000000</td>\n",
       "      <td>6.000000</td>\n",
       "      <td>139.000000</td>\n",
       "      <td>9.000000</td>\n",
       "      <td>1.000000</td>\n",
       "      <td>1.000000</td>\n",
       "      <td>5.000000</td>\n",
       "      <td>9.000000</td>\n",
       "      <td>99.000000</td>\n",
       "      <td>5.000000</td>\n",
       "      <td>72.000000</td>\n",
       "      <td>9.000000</td>\n",
       "      <td>72.000000</td>\n",
       "      <td>9.000000</td>\n",
       "      <td>9.000000</td>\n",
       "      <td>9.000000</td>\n",
       "      <td>14.000000</td>\n",
       "      <td>1.000000</td>\n",
       "    </tr>\n",
       "  </tbody>\n",
       "</table>\n",
       "</div>"
      ],
      "text/plain": [
       "                 ID  generic_score  generic_score2  generic_score3  \\\n",
       "count  18353.000000   18353.000000    18353.000000    18353.000000   \n",
       "mean   35126.957446     895.977606      735.943442      895.011987   \n",
       "std    12653.722827     188.421506      182.081405      396.009984   \n",
       "min    12951.000000    -998.000000      407.000000    -1576.000000   \n",
       "25%    24180.000000     781.000000      594.000000      590.000000   \n",
       "50%    35203.000000     900.000000      699.000000      894.000000   \n",
       "75%    46104.000000    1028.000000      842.000000     1203.000000   \n",
       "max    56885.000000    1458.000000     1600.000000     1922.000000   \n",
       "\n",
       "       generic_score4  income_trend_score  indebtedness_score   loan_amount  \\\n",
       "count    18353.000000        18353.000000        18353.000000  18353.000000   \n",
       "mean        -0.006368           -0.007798           10.239797   7651.999782   \n",
       "std          1.178505            0.990703           12.992998   5254.241859   \n",
       "min         -1.880000           -5.000000           -3.000000   1500.000000   \n",
       "25%         -1.160000           -0.620000            2.000000   3500.000000   \n",
       "50%         -0.420000            0.010000            6.000000   6000.000000   \n",
       "75%          1.160000            0.690000           12.000000  10000.000000   \n",
       "max          1.830000            2.970000           96.000000  25000.000000   \n",
       "\n",
       "          loan_term           age  social_accounts  social_score  \\\n",
       "count  18353.000000  18353.000000     18353.000000  18353.000000   \n",
       "mean      43.218057     38.112788         3.379665     65.122977   \n",
       "std       16.062554      9.881282         2.119862     34.599234   \n",
       "min       12.000000     21.000000         0.000000     10.000000   \n",
       "25%       30.000000     30.000000         1.000000     36.000000   \n",
       "50%       48.000000     37.000000         4.000000     64.000000   \n",
       "75%       60.000000     46.000000         5.000000     92.000000   \n",
       "max       60.000000     65.000000         6.000000    139.000000   \n",
       "\n",
       "         job_sector  associate_flag  mortgage_flag  num_searches  \\\n",
       "count  16856.000000    18353.000000   18353.000000  18353.000000   \n",
       "mean       4.036545        0.487931       0.369967     -1.240342   \n",
       "std        2.588149        0.499868       0.482809      1.078614   \n",
       "min        1.000000        0.000000       0.000000     -2.000000   \n",
       "25%        2.000000        0.000000       0.000000     -2.000000   \n",
       "50%        3.000000        0.000000       0.000000     -2.000000   \n",
       "75%        6.000000        1.000000       1.000000      0.000000   \n",
       "max        9.000000        1.000000       1.000000      5.000000   \n",
       "\n",
       "       num_accounts_closed  num_transactions  num_pi_records  \\\n",
       "count         18353.000000      16442.000000    18353.000000   \n",
       "mean              3.027352         49.649130        0.073939   \n",
       "std               2.035676         28.887918        0.329846   \n",
       "min               0.000000          0.000000       -1.000000   \n",
       "25%               1.000000         25.000000        0.000000   \n",
       "50%               3.000000         49.000000        0.000000   \n",
       "75%               5.000000         75.000000        0.000000   \n",
       "max               9.000000         99.000000        5.000000   \n",
       "\n",
       "       num_months_pi_recorded  num_defaults  num_months_since_last_default  \\\n",
       "count            18353.000000  18353.000000                   18353.000000   \n",
       "mean                 2.860895      0.231679                       7.351986   \n",
       "std                 12.099967      0.652392                      18.321960   \n",
       "min                 -1.000000     -1.000000                      -1.000000   \n",
       "25%                  0.000000      0.000000                       0.000000   \n",
       "50%                  0.000000      0.000000                       0.000000   \n",
       "75%                  0.000000      0.000000                       0.000000   \n",
       "max                 72.000000      9.000000                      72.000000   \n",
       "\n",
       "       num_settled_good  num_settled_good_l6m  num_delinquents  \\\n",
       "count      18353.000000          18353.000000     18353.000000   \n",
       "mean           5.954394              1.877949         0.335313   \n",
       "std            3.016328              1.840771         0.811940   \n",
       "min           -1.000000             -1.000000        -1.000000   \n",
       "25%            3.000000              0.000000         0.000000   \n",
       "50%            6.000000              1.000000         0.000000   \n",
       "75%            9.000000              3.000000         0.000000   \n",
       "max            9.000000              9.000000         9.000000   \n",
       "\n",
       "       num_of_revolving_accounts       outcome  \n",
       "count               18353.000000  18353.000000  \n",
       "mean                    1.681360      0.119762  \n",
       "std                     1.610886      0.324692  \n",
       "min                    -2.000000      0.000000  \n",
       "25%                     1.000000      0.000000  \n",
       "50%                     1.000000      0.000000  \n",
       "75%                     2.000000      0.000000  \n",
       "max                    14.000000      1.000000  "
      ]
     },
     "execution_count": 7,
     "metadata": {},
     "output_type": "execute_result"
    }
   ],
   "source": [
    "samples.describe()"
   ]
  },
  {
   "cell_type": "code",
   "execution_count": 8,
   "metadata": {},
   "outputs": [
    {
     "data": {
      "image/png": "[encoded data removed]",
      "text/plain": [
       "<Figure size 432x288 with 1 Axes>"
      ]
     },
     "metadata": {
      "needs_background": "light"
     },
     "output_type": "display_data"
    },
    {
     "data": {
      "image/png": "[encoded data removed]",
      "text/plain": [
       "<Figure size 432x288 with 1 Axes>"
      ]
     },
     "metadata": {
      "needs_background": "light"
     },
     "output_type": "display_data"
    },
    {
     "data": {
      "image/png": "[encoded data removed]",
      "text/plain": [
       "<Figure size 432x288 with 1 Axes>"
      ]
     },
     "metadata": {
      "needs_background": "light"
     },
     "output_type": "display_data"
    },
    {
     "data": {
      "image/png": "[encoded data removed]",
      "text/plain": [
       "<Figure size 432x288 with 1 Axes>"
      ]
     },
     "metadata": {
      "needs_background": "light"
     },
     "output_type": "display_data"
    },
    {
     "data": {
      "image/png": "[encoded data removed]",
      "text/plain": [
       "<Figure size 432x288 with 1 Axes>"
      ]
     },
     "metadata": {
      "needs_background": "light"
     },
     "output_type": "display_data"
    },
    {
     "data": {
      "image/png": "[encoded data removed]",
      "text/plain": [
       "<Figure size 432x288 with 1 Axes>"
      ]
     },
     "metadata": {
      "needs_background": "light"
     },
     "output_type": "display_data"
    },
    {
     "data": {
      "image/png": "[encoded data removed]",
      "text/plain": [
       "<Figure size 432x288 with 1 Axes>"
      ]
     },
     "metadata": {
      "needs_background": "light"
     },
     "output_type": "display_data"
    },
    {
     "data": {
      "image/png": "[encoded data removed]",
      "text/plain": [
       "<Figure size 432x288 with 1 Axes>"
      ]
     },
     "metadata": {
      "needs_background": "light"
     },
     "output_type": "display_data"
    },
    {
     "data": {
      "image/png": "[encoded data removed]",
      "text/plain": [
       "<Figure size 432x288 with 1 Axes>"
      ]
     },
     "metadata": {
      "needs_background": "light"
     },
     "output_type": "display_data"
    },
    {
     "data": {
      "image/png": "[encoded data removed]",
      "text/plain": [
       "<Figure size 432x288 with 1 Axes>"
      ]
     },
     "metadata": {
      "needs_background": "light"
     },
     "output_type": "display_data"
    },
    {
     "data": {
      "image/png": "[encoded data removed]",
      "text/plain": [
       "<Figure size 432x288 with 1 Axes>"
      ]
     },
     "metadata": {
      "needs_background": "light"
     },
     "output_type": "display_data"
    },
    {
     "data": {
      "image/png": "[encoded data removed]",
      "text/plain": [
       "<Figure size 432x288 with 1 Axes>"
      ]
     },
     "metadata": {
      "needs_background": "light"
     },
     "output_type": "display_data"
    },
    {
     "data": {
      "image/png": "[encoded data removed]",
      "text/plain": [
       "<Figure size 432x288 with 1 Axes>"
      ]
     },
     "metadata": {
      "needs_background": "light"
     },
     "output_type": "display_data"
    },
    {
     "data": {
      "image/png": "[encoded data removed]",
      "text/plain": [
       "<Figure size 432x288 with 1 Axes>"
      ]
     },
     "metadata": {
      "needs_background": "light"
     },
     "output_type": "display_data"
    },
    {
     "data": {
      "image/png": "[encoded data removed]",
      "text/plain": [
       "<Figure size 432x288 with 1 Axes>"
      ]
     },
     "metadata": {
      "needs_background": "light"
     },
     "output_type": "display_data"
    },
    {
     "data": {
      "image/png": "[encoded data removed]",
      "text/plain": [
       "<Figure size 432x288 with 1 Axes>"
      ]
     },
     "metadata": {
      "needs_background": "light"
     },
     "output_type": "display_data"
    },
    {
     "data": {
      "image/png": "[encoded data removed]",
      "text/plain": [
       "<Figure size 432x288 with 1 Axes>"
      ]
     },
     "metadata": {
      "needs_background": "light"
     },
     "output_type": "display_data"
    },
    {
     "data": {
      "image/png": "[encoded data removed]",
      "text/plain": [
       "<Figure size 432x288 with 1 Axes>"
      ]
     },
     "metadata": {
      "needs_background": "light"
     },
     "output_type": "display_data"
    },
    {
     "data": {
      "image/png": "[encoded data removed]",
      "text/plain": [
       "<Figure size 432x288 with 1 Axes>"
      ]
     },
     "metadata": {
      "needs_background": "light"
     },
     "output_type": "display_data"
    },
    {
     "data": {
      "image/png": "[encoded data removed]",
      "text/plain": [
       "<Figure size 432x288 with 1 Axes>"
      ]
     },
     "metadata": {
      "needs_background": "light"
     },
     "output_type": "display_data"
    },
    {
     "data": {
      "image/png": "[encoded data removed]",
      "text/plain": [
       "<Figure size 432x288 with 1 Axes>"
      ]
     },
     "metadata": {
      "needs_background": "light"
     },
     "output_type": "display_data"
    },
    {
     "data": {
      "image/png": "[encoded data removed]",
      "text/plain": [
       "<Figure size 432x288 with 1 Axes>"
      ]
     },
     "metadata": {
      "needs_background": "light"
     },
     "output_type": "display_data"
    },
    {
     "data": {
      "image/png": "[encoded data removed]",
      "text/plain": [
       "<Figure size 432x288 with 1 Axes>"
      ]
     },
     "metadata": {
      "needs_background": "light"
     },
     "output_type": "display_data"
    },
    {
     "data": {
      "image/png": "[encoded data removed]",
      "text/plain": [
       "<Figure size 432x288 with 1 Axes>"
      ]
     },
     "metadata": {
      "needs_background": "light"
     },
     "output_type": "display_data"
    },
    {
     "data": {
      "image/png": "[encoded data removed]",
      "text/plain": [
       "<Figure size 432x288 with 1 Axes>"
      ]
     },
     "metadata": {
      "needs_background": "light"
     },
     "output_type": "display_data"
    },
    {
     "data": {
      "image/png": "[encoded data removed]",
      "text/plain": [
       "<Figure size 432x288 with 1 Axes>"
      ]
     },
     "metadata": {
      "needs_background": "light"
     },
     "output_type": "display_data"
    }
   ],
   "source": [
    "# Create histograms\n",
    "for column in samples.columns:\n",
    "    if column != 'ID':\n",
    "        if samples[column].dtype != 'object':\n",
    "            samples[column].hist()\n",
    "            plt.xlabel(column)\n",
    "            plt.ylabel('Frequency')\n",
    "            plt.show()"
   ]
  },
  {
   "cell_type": "markdown",
   "metadata": {},
   "source": [
    "Some notes:  \n",
    "generic_score: Some scores with default value of -998  \n",
    "generic_score3: Very few scores below -400  \n",
    "generic_score4: May need to take absolute value of this based on histogram distribution  \n",
    "num_searches: Values range from -2 to 5  \n",
    "num_pi_records: 80% of values are zero  \n",
    "num_months_pi_recorded: One value of -1, 94% of values are zero  \n",
    "num_defaults: One value is -1, 84% of values are zero  \n",
    "num_months_since_last_default: One value of -1, 84% of values are zero  \n",
    "num_of_revolving_accounts: 200 accounts have a default value of -2  "
   ]
  },
  {
   "cell_type": "markdown",
   "metadata": {},
   "source": [
    "# Feature engineering"
   ]
  },
  {
   "cell_type": "code",
   "execution_count": 9,
   "metadata": {},
   "outputs": [],
   "source": [
    "# Remove the single account where there are a lot of -1 values, this is likely a data error\n",
    "samples = samples[samples['num_defaults'] != -1]\n",
    "\n",
    "# Create a flag for generic_score missing\n",
    "samples['generic_score'] = samples['generic_score'].replace(np.nan, -998)\n",
    "samples['generic_score_missing'] = (samples['generic_score'] == -998).astype(int)\n",
    "\n",
    "# Create a flag for generic_score3 less than -400\n",
    "samples['generic_score3_category'] = np.where(samples['generic_score3'] < -400, 'low', 'normal')\n",
    "samples['generic_score4_abs'] = samples['generic_score4'].abs()\n",
    "\n",
    "# Create a flag for num_searches missing\n",
    "samples['num_searches_missing'] = (samples['num_searches'] == -2).astype(int)\n",
    "samples['num_searches'] = samples['num_searches'].replace(-2, np.nan)\n",
    "\n",
    "# Create a flag for having a pi record\n",
    "samples['has_pi_record'] = (samples['num_pi_records'] > 0).astype(int)\n",
    "# Create a flag for having num_months_pi_recorded data\n",
    "samples['num_months_pi_recorded_indicator'] = (samples['num_months_pi_recorded'] > 0).astype(int)\n",
    "\n",
    "# Apply a log transformation to num_defaults to adjust for skewness\n",
    "samples['num_defaults_log'] = np.log1p(samples['num_defaults'])\n",
    "\n",
    "# Create bandings for num_months_since_last_default\n",
    "samples['num_months_since_last_default_category'] = pd.cut(\n",
    "    samples['num_months_since_last_default'],\n",
    "    bins=[-1, 0, 12, np.inf],\n",
    "    labels=['No Defaults', '<12 Months', '12+ Months']\n",
    ")\n",
    "\n",
    "# Create flag for num_of_revolving_accounts missing\n",
    "samples['num_of_revolving_accounts_missing'] = (samples['num_of_revolving_accounts'] == -2).astype(int)\n",
    "samples['num_of_revolving_accounts'] = samples['num_of_revolving_accounts'].replace(-2, np.nan)"
   ]
  },
  {
   "cell_type": "code",
   "execution_count": 10,
   "metadata": {},
   "outputs": [
    {
     "name": "stdout",
     "output_type": "stream",
     "text": [
      "aggregator_group\n",
      "region\n",
      "job_sector\n",
      "generic_score3_category\n",
      "num_months_since_last_default_category\n"
     ]
    }
   ],
   "source": [
    "# Handle missing values\n",
    "num_imputer = SimpleImputer(strategy='median')\n",
    "categoric_imputer = SimpleImputer(strategy='most_frequent')\n",
    "\n",
    "num_features = samples.select_dtypes(include=['number']).columns\n",
    "to_impute = [col for col in num_features if samples[col].isnull().sum() > 0]\n",
    "samples[to_impute] = num_imputer.fit_transform(samples[to_impute])\n",
    "\n",
    "samples['job_sector'] = categoric_imputer.fit_transform(samples[['job_sector']])\n",
    "\n",
    "# Encoding categorical variables\n",
    "label_encoders = {}\n",
    "categorical_features = ['aggregator_group', 'region', 'job_sector', 'generic_score3_category', 'num_months_since_last_default_category']\n",
    "for col in categorical_features:\n",
    "    print(col)\n",
    "    samples[col] = samples[col].astype(str)  # Convert to string to ensure uniform type\n",
    "    le = LabelEncoder()\n",
    "    samples[col] = le.fit_transform(samples[col])\n",
    "    label_encoders[col] = le"
   ]
  },
  {
   "cell_type": "markdown",
   "metadata": {},
   "source": [
    "# Prep data for modelling"
   ]
  },
  {
   "cell_type": "code",
   "execution_count": 11,
   "metadata": {},
   "outputs": [],
   "source": [
    "# Define target and split data\n",
    "X = samples.drop(columns=['ID', 'application_date', 'outcome'])\n",
    "y = samples['outcome'] > 0  # Convert to binary classification\n",
    "X_train, X_test, y_train, y_test = train_test_split(X, y, test_size=0.2, random_state=618)"
   ]
  },
  {
   "cell_type": "code",
   "execution_count": 12,
   "metadata": {},
   "outputs": [],
   "source": [
    "# Function to iteratively remove high VIF features\n",
    "def remove_high_vif_features(X, threshold=10, keep_feats=None):\n",
    "    \"\"\"\n",
    "    Iteratively removes features with high VIF, keeping the specified features.\n",
    "    \n",
    "    Parameters:\n",
    "    - X: DataFrame containing independent variables\n",
    "    - threshold: VIF threshold for removal (default: 10)\n",
    "    - keep_feats: List of features to always keep (default: None)\n",
    "\n",
    "    Returns:\n",
    "    - X: DataFrame after removing high VIF features\n",
    "    - removed_features: List of removed features\n",
    "    \"\"\"\n",
    "    if keep_feats is None:\n",
    "        keep_feats = []\n",
    "        \n",
    "    removed_features = []\n",
    "    \n",
    "    while True:\n",
    "        # Drop constant columns (prevents divide by zero in VIF)\n",
    "        constant_cols = [col for col in X.columns if X[col].nunique() == 1]\n",
    "        if constant_cols:\n",
    "            X = X.drop(columns=constant_cols)\n",
    "            removed_features.extend(constant_cols)\n",
    "            print(f\"Removed constant features: {constant_cols}\")\n",
    "\n",
    "        # Compute VIF\n",
    "        vif_data = pd.DataFrame()\n",
    "        vif_data['Feature'] = X.columns\n",
    "        vif_data['VIF'] = [\n",
    "            variance_inflation_factor(X.values, i) if X.shape[1] > 1 else 0  \n",
    "            for i in range(X.shape[1])\n",
    "        ]\n",
    "        vif_data.sort_values(by='VIF', ascending=False, inplace=True, ignore_index=True)\n",
    "\n",
    "        # Stop if all VIF values are below or equal to the threshold\n",
    "        if vif_data['VIF'].max() <= threshold:\n",
    "            break\n",
    "        \n",
    "        # Identify the feature with the highest VIF that is not in keep_feats\n",
    "        for i, row in vif_data.iterrows():\n",
    "            if row['Feature'] not in keep_feats and row['VIF'] > threshold:\n",
    "                feature_to_remove = row['Feature']\n",
    "                break\n",
    "        else:\n",
    "            break  # No more features to remove\n",
    "\n",
    "        # Remove the feature and update the dataset\n",
    "        X = X.drop(columns=[feature_to_remove])\n",
    "        removed_features.append(feature_to_remove)\n",
    "        print(f\"Removed: {feature_to_remove} (VIF={row['VIF']:.2f})\")\n",
    "    \n",
    "    return X, removed_features"
   ]
  },
  {
   "cell_type": "code",
   "execution_count": 13,
   "metadata": {},
   "outputs": [
    {
     "name": "stderr",
     "output_type": "stream",
     "text": [
      "c:\\Users\\Faisal\\anaconda3\\lib\\site-packages\\statsmodels\\stats\\outliers_influence.py:198: RuntimeWarning: divide by zero encountered in double_scalars\n",
      "  vif = 1. / (1. - r_squared_i)\n"
     ]
    },
    {
     "name": "stdout",
     "output_type": "stream",
     "text": [
      "Removed: num_defaults (VIF=41.04)\n"
     ]
    },
    {
     "name": "stderr",
     "output_type": "stream",
     "text": [
      "c:\\Users\\Faisal\\anaconda3\\lib\\site-packages\\statsmodels\\stats\\outliers_influence.py:198: RuntimeWarning: divide by zero encountered in double_scalars\n",
      "  vif = 1. / (1. - r_squared_i)\n"
     ]
    },
    {
     "name": "stdout",
     "output_type": "stream",
     "text": [
      "Removed: num_months_since_last_default_category (VIF=18.97)\n"
     ]
    },
    {
     "name": "stderr",
     "output_type": "stream",
     "text": [
      "c:\\Users\\Faisal\\anaconda3\\lib\\site-packages\\statsmodels\\stats\\outliers_influence.py:198: RuntimeWarning: divide by zero encountered in double_scalars\n",
      "  vif = 1. / (1. - r_squared_i)\n"
     ]
    },
    {
     "name": "stdout",
     "output_type": "stream",
     "text": [
      "Removed: num_months_pi_recorded (VIF=10.87)\n",
      "Final retained features: ['generic_score', 'generic_score2', 'generic_score3', 'generic_score4', 'income_trend_score', 'indebtedness_score', 'loan_amount', 'loan_term', 'aggregator_group', 'age', 'region', 'social_accounts', 'social_score', 'job_sector', 'associate_flag', 'mortgage_flag', 'num_searches', 'num_accounts_closed', 'num_transactions', 'num_pi_records', 'num_months_since_last_default', 'num_settled_good', 'num_settled_good_l6m', 'num_delinquents', 'num_of_revolving_accounts', 'generic_score_missing', 'generic_score3_category', 'generic_score4_abs', 'num_searches_missing', 'has_pi_record', 'num_months_pi_recorded_indicator', 'num_defaults_log', 'num_of_revolving_accounts_missing']\n",
      "Removed features: ['num_defaults', 'num_months_since_last_default_category', 'num_months_pi_recorded']\n"
     ]
    },
    {
     "name": "stderr",
     "output_type": "stream",
     "text": [
      "c:\\Users\\Faisal\\anaconda3\\lib\\site-packages\\statsmodels\\stats\\outliers_influence.py:198: RuntimeWarning: divide by zero encountered in double_scalars\n",
      "  vif = 1. / (1. - r_squared_i)\n"
     ]
    }
   ],
   "source": [
    "# Identify features to keep\n",
    "keep_feats = [\n",
    "    'num_months_pi_recorded_indicator',\n",
    "    'has_pi_record',\n",
    "    'num_defaults_log'\n",
    "]\n",
    "keep_feats += [x for x in X_train.columns if 'score' in x]\n",
    "\n",
    "# Apply iterative VIF removal\n",
    "X_train, removed_features = remove_high_vif_features(X_train, threshold=10, keep_feats=keep_feats)\n",
    "X_test = X_test.drop(columns=removed_features)\n",
    "\n",
    "print(f\"Final retained features: {X_train.columns.tolist()}\")\n",
    "print(f\"Removed features: {removed_features}\")"
   ]
  },
  {
   "cell_type": "code",
   "execution_count": 14,
   "metadata": {},
   "outputs": [],
   "source": [
    "# Feature scaling\n",
    "scaler = StandardScaler()\n",
    "X_train_scaled = scaler.fit_transform(X_train)\n",
    "X_test_scaled = scaler.transform(X_test)"
   ]
  },
  {
   "cell_type": "markdown",
   "metadata": {},
   "source": [
    "# Modelling"
   ]
  },
  {
   "cell_type": "markdown",
   "metadata": {},
   "source": [
    "## Log Reg"
   ]
  },
  {
   "cell_type": "code",
   "execution_count": 15,
   "metadata": {},
   "outputs": [
    {
     "data": {
      "text/html": [
       "<style>#sk-container-id-1 {color: black;}#sk-container-id-1 pre{padding: 0;}#sk-container-id-1 div.sk-toggleable {background-color: white;}#sk-container-id-1 label.sk-toggleable__label {cursor: pointer;display: block;width: 100%;margin-bottom: 0;padding: 0.3em;box-sizing: border-box;text-align: center;}#sk-container-id-1 label.sk-toggleable__label-arrow:before {content: \"▸\";float: left;margin-right: 0.25em;color: #696969;}#sk-container-id-1 label.sk-toggleable__label-arrow:hover:before {color: black;}#sk-container-id-1 div.sk-estimator:hover label.sk-toggleable__label-arrow:before {color: black;}#sk-container-id-1 div.sk-toggleable__content {max-height: 0;max-width: 0;overflow: hidden;text-align: left;background-color: #f0f8ff;}#sk-container-id-1 div.sk-toggleable__content pre {margin: 0.2em;color: black;border-radius: 0.25em;background-color: #f0f8ff;}#sk-container-id-1 input.sk-toggleable__control:checked~div.sk-toggleable__content {max-height: 200px;max-width: 100%;overflow: auto;}#sk-container-id-1 input.sk-toggleable__control:checked~label.sk-toggleable__label-arrow:before {content: \"▾\";}#sk-container-id-1 div.sk-estimator input.sk-toggleable__control:checked~label.sk-toggleable__label {background-color: #d4ebff;}#sk-container-id-1 div.sk-label input.sk-toggleable__control:checked~label.sk-toggleable__label {background-color: #d4ebff;}#sk-container-id-1 input.sk-hidden--visually {border: 0;clip: rect(1px 1px 1px 1px);clip: rect(1px, 1px, 1px, 1px);height: 1px;margin: -1px;overflow: hidden;padding: 0;position: absolute;width: 1px;}#sk-container-id-1 div.sk-estimator {font-family: monospace;background-color: #f0f8ff;border: 1px dotted black;border-radius: 0.25em;box-sizing: border-box;margin-bottom: 0.5em;}#sk-container-id-1 div.sk-estimator:hover {background-color: #d4ebff;}#sk-container-id-1 div.sk-parallel-item::after {content: \"\";width: 100%;border-bottom: 1px solid gray;flex-grow: 1;}#sk-container-id-1 div.sk-label:hover label.sk-toggleable__label {background-color: #d4ebff;}#sk-container-id-1 div.sk-serial::before {content: \"\";position: absolute;border-left: 1px solid gray;box-sizing: border-box;top: 0;bottom: 0;left: 50%;z-index: 0;}#sk-container-id-1 div.sk-serial {display: flex;flex-direction: column;align-items: center;background-color: white;padding-right: 0.2em;padding-left: 0.2em;position: relative;}#sk-container-id-1 div.sk-item {position: relative;z-index: 1;}#sk-container-id-1 div.sk-parallel {display: flex;align-items: stretch;justify-content: center;background-color: white;position: relative;}#sk-container-id-1 div.sk-item::before, #sk-container-id-1 div.sk-parallel-item::before {content: \"\";position: absolute;border-left: 1px solid gray;box-sizing: border-box;top: 0;bottom: 0;left: 50%;z-index: -1;}#sk-container-id-1 div.sk-parallel-item {display: flex;flex-direction: column;z-index: 1;position: relative;background-color: white;}#sk-container-id-1 div.sk-parallel-item:first-child::after {align-self: flex-end;width: 50%;}#sk-container-id-1 div.sk-parallel-item:last-child::after {align-self: flex-start;width: 50%;}#sk-container-id-1 div.sk-parallel-item:only-child::after {width: 0;}#sk-container-id-1 div.sk-dashed-wrapped {border: 1px dashed gray;margin: 0 0.4em 0.5em 0.4em;box-sizing: border-box;padding-bottom: 0.4em;background-color: white;}#sk-container-id-1 div.sk-label label {font-family: monospace;font-weight: bold;display: inline-block;line-height: 1.2em;}#sk-container-id-1 div.sk-label-container {text-align: center;}#sk-container-id-1 div.sk-container {/* jupyter's `normalize.less` sets `[hidden] { display: none; }` but bootstrap.min.css set `[hidden] { display: none !important; }` so we also need the `!important` here to be able to override the default hidden behavior on the sphinx rendered scikit-learn.org. See: https://github.com/scikit-learn/scikit-learn/issues/21755 */display: inline-block !important;position: relative;}#sk-container-id-1 div.sk-text-repr-fallback {display: none;}</style><div id=\"sk-container-id-1\" class=\"sk-top-container\"><div class=\"sk-text-repr-fallback\"><pre>LogisticRegression()</pre><b>In a Jupyter environment, please rerun this cell to show the HTML representation or trust the notebook. <br />On GitHub, the HTML representation is unable to render, please try loading this page with nbviewer.org.</b></div><div class=\"sk-container\" hidden><div class=\"sk-item\"><div class=\"sk-estimator sk-toggleable\"><input class=\"sk-toggleable__control sk-hidden--visually\" id=\"sk-estimator-id-1\" type=\"checkbox\" checked><label for=\"sk-estimator-id-1\" class=\"sk-toggleable__label sk-toggleable__label-arrow\">LogisticRegression</label><div class=\"sk-toggleable__content\"><pre>LogisticRegression()</pre></div></div></div></div></div>"
      ],
      "text/plain": [
       "LogisticRegression()"
      ]
     },
     "execution_count": 15,
     "metadata": {},
     "output_type": "execute_result"
    }
   ],
   "source": [
    "# Train logistic regression model\n",
    "log_reg = LogisticRegression()\n",
    "log_reg.fit(X_train_scaled, y_train)"
   ]
  },
  {
   "cell_type": "code",
   "execution_count": 16,
   "metadata": {},
   "outputs": [
    {
     "name": "stdout",
     "output_type": "stream",
     "text": [
      "                              Feature  Coefficient\n",
      "4                  income_trend_score     0.573128\n",
      "8                    aggregator_group     0.210253\n",
      "17                num_accounts_closed     0.195227\n",
      "5                  indebtedness_score     0.128584\n",
      "13                         job_sector     0.124929\n",
      "7                           loan_term     0.106835\n",
      "23                    num_delinquents     0.084800\n",
      "11                    social_accounts     0.056861\n",
      "32  num_of_revolving_accounts_missing     0.047039\n",
      "16                       num_searches     0.045029\n",
      "1                      generic_score2     0.035412\n",
      "25              generic_score_missing     0.011785\n",
      "10                             region    -0.010373\n",
      "26            generic_score3_category    -0.011785\n",
      "18                   num_transactions    -0.012776\n",
      "3                      generic_score4    -0.022811\n",
      "6                         loan_amount    -0.033105\n",
      "19                     num_pi_records    -0.033842\n",
      "30   num_months_pi_recorded_indicator    -0.036204\n",
      "29                      has_pi_record    -0.036204\n",
      "22               num_settled_good_l6m    -0.039958\n",
      "20      num_months_since_last_default    -0.045276\n",
      "2                      generic_score3    -0.055501\n",
      "12                       social_score    -0.071984\n",
      "31                   num_defaults_log    -0.081777\n",
      "28               num_searches_missing    -0.091831\n",
      "14                     associate_flag    -0.107459\n",
      "9                                 age    -0.115506\n",
      "21                   num_settled_good    -0.184689\n",
      "15                      mortgage_flag    -0.196478\n",
      "0                       generic_score    -0.236550\n",
      "24          num_of_revolving_accounts    -0.261821\n",
      "27                 generic_score4_abs    -0.845226\n"
     ]
    }
   ],
   "source": [
    "# Feature importance from Logistic Regression\n",
    "log_reg_coeffs = pd.DataFrame({'Feature': X_train.columns, 'Coefficient': log_reg.coef_[0]})\n",
    "print(log_reg_coeffs.sort_values(by='Coefficient', ascending=False))"
   ]
  },
  {
   "cell_type": "code",
   "execution_count": 17,
   "metadata": {},
   "outputs": [],
   "source": [
    "# # Get p-values for logistic regression\n",
    "# logit_sm = sm.Logit(y_train, sm.add_constant(X_train_scaled)).fit()\n",
    "# print(logit_sm.summary())\n",
    "# Where p>0.05, it may be worth removing these features stepwise as these are insignificant and adding noise.\n",
    "# (Note: this is using statsmodel log_reg, regularisation different to sklearn, align these if using in build)"
   ]
  },
  {
   "cell_type": "markdown",
   "metadata": {},
   "source": [
    "## LightGBM"
   ]
  },
  {
   "cell_type": "code",
   "execution_count": 18,
   "metadata": {},
   "outputs": [
    {
     "name": "stdout",
     "output_type": "stream",
     "text": [
      "[LightGBM] [Info] Number of positive: 1757, number of negative: 12924\n",
      "[LightGBM] [Info] Auto-choosing row-wise multi-threading, the overhead of testing was 0.002009 seconds.\n",
      "You can set `force_row_wise=true` to remove the overhead.\n",
      "And if memory is not enough, you can set `force_col_wise=true`.\n",
      "[LightGBM] [Info] Total Bins 2045\n",
      "[LightGBM] [Info] Number of data points in the train set: 14681, number of used features: 31\n",
      "[LightGBM] [Info] [binary:BoostFromScore]: pavg=0.119678 -> initscore=-1.995478\n",
      "[LightGBM] [Info] Start training from score -1.995478\n"
     ]
    }
   ],
   "source": [
    "# Train lgbm model\n",
    "lgb_train = lgb.Dataset(X_train, label=y_train)\n",
    "lgb_test = lgb.Dataset(X_test, label=y_test, reference=lgb_train)\n",
    "params = {\n",
    "    'objective': 'binary',\n",
    "    'metric': 'auc',\n",
    "    'boosting_type': 'gbdt',\n",
    "    'learning_rate': 0.05,\n",
    "    'num_leaves': 31,\n",
    "    'max_depth': -1,\n",
    "}\n",
    "lgbm = lgb.train(params, lgb_train, valid_sets=[lgb_test])"
   ]
  },
  {
   "cell_type": "code",
   "execution_count": 19,
   "metadata": {},
   "outputs": [
    {
     "name": "stdout",
     "output_type": "stream",
     "text": [
      "                              Feature  Importance\n",
      "18                   num_transactions         335\n",
      "1                      generic_score2         224\n",
      "2                      generic_score3         220\n",
      "9                                 age         187\n",
      "12                       social_score         174\n",
      "17                num_accounts_closed         174\n",
      "6                         loan_amount         155\n",
      "0                       generic_score         145\n",
      "3                      generic_score4         136\n",
      "21                   num_settled_good         128\n",
      "24          num_of_revolving_accounts         123\n",
      "5                  indebtedness_score         120\n",
      "13                         job_sector         111\n",
      "4                  income_trend_score         104\n",
      "8                    aggregator_group          95\n",
      "10                             region          74\n",
      "22               num_settled_good_l6m          65\n",
      "20      num_months_since_last_default          55\n",
      "15                      mortgage_flag          52\n",
      "7                           loan_term          50\n",
      "28               num_searches_missing          42\n",
      "14                     associate_flag          41\n",
      "27                 generic_score4_abs          39\n",
      "11                    social_accounts          37\n",
      "19                     num_pi_records          35\n",
      "16                       num_searches          26\n",
      "23                    num_delinquents          24\n",
      "31                   num_defaults_log          19\n",
      "32  num_of_revolving_accounts_missing          10\n",
      "26            generic_score3_category           0\n",
      "25              generic_score_missing           0\n",
      "29                      has_pi_record           0\n",
      "30   num_months_pi_recorded_indicator           0\n"
     ]
    }
   ],
   "source": [
    "# Feature importance from LightGBM\n",
    "lgbm_importance = pd.DataFrame({'Feature': X_train.columns, 'Importance': lgbm.feature_importance()})\n",
    "print(lgbm_importance.sort_values(by='Importance', ascending=False))"
   ]
  },
  {
   "cell_type": "markdown",
   "metadata": {},
   "source": [
    "# Models to scorecards"
   ]
  },
  {
   "cell_type": "markdown",
   "metadata": {},
   "source": [
    "## Prepare hold out set"
   ]
  },
  {
   "cell_type": "code",
   "execution_count": 20,
   "metadata": {},
   "outputs": [
    {
     "name": "stderr",
     "output_type": "stream",
     "text": [
      "c:\\Users\\Faisal\\anaconda3\\lib\\site-packages\\pandas\\core\\arraylike.py:402: RuntimeWarning: divide by zero encountered in log1p\n",
      "  result = getattr(ufunc, method)(*inputs, **kwargs)\n"
     ]
    }
   ],
   "source": [
    "# Create hold_out_modified to get same features as used for X_train\n",
    "hold_out_mod = hold_out.copy()\n",
    "\n",
    "hold_out_mod['generic_score_missing'] = (hold_out_mod['generic_score'] == -998).astype(int)\n",
    "hold_out_mod['generic_score'] = hold_out_mod['generic_score'].replace(-998, np.nan)\n",
    "hold_out_mod['generic_score3_category'] = np.where(hold_out_mod['generic_score3'] < -400, 'low', 'normal')\n",
    "hold_out_mod['generic_score4_abs'] = hold_out_mod['generic_score4'].abs()\n",
    "hold_out_mod['num_searches_missing'] = (hold_out_mod['num_searches'] == -2).astype(int)\n",
    "hold_out_mod['num_searches'] = hold_out_mod['num_searches'].replace(-2, np.nan)\n",
    "hold_out_mod['has_pi_record'] = (hold_out_mod['num_pi_records'] > 0).astype(int)\n",
    "hold_out_mod['num_months_pi_recorded_indicator'] = (hold_out_mod['num_months_pi_recorded'] > 0).astype(int)\n",
    "hold_out_mod['num_defaults_log'] = np.log1p(hold_out_mod['num_defaults'])\n",
    "hold_out_mod['num_months_since_last_default_category'] = pd.cut(\n",
    "    hold_out_mod['num_months_since_last_default'],\n",
    "    bins=[-1, 0, 12, np.inf],\n",
    "    labels=['No Defaults', '<12 Months', '12+ Months']\n",
    ")\n",
    "hold_out_mod['num_of_revolving_accounts_missing'] = (hold_out_mod['num_of_revolving_accounts'] == -2).astype(int)\n",
    "hold_out_mod['num_of_revolving_accounts'] = hold_out_mod['num_of_revolving_accounts'].replace(-2, np.nan)"
   ]
  },
  {
   "cell_type": "code",
   "execution_count": 21,
   "metadata": {},
   "outputs": [],
   "source": [
    "# Handle missing values\n",
    "hold_out_mod[to_impute] = num_imputer.transform(hold_out_mod[to_impute])\n",
    "hold_out_mod['job_sector'] = categoric_imputer.transform(hold_out_mod[['job_sector']])"
   ]
  },
  {
   "cell_type": "code",
   "execution_count": 22,
   "metadata": {},
   "outputs": [
    {
     "name": "stdout",
     "output_type": "stream",
     "text": [
      "aggregator_group\n",
      "region\n",
      "job_sector\n",
      "generic_score3_category\n",
      "num_months_since_last_default_category\n",
      "\t(new fit)\n"
     ]
    }
   ],
   "source": [
    "# Try except used here, but label encoders should be present for all features - this is a possible issue with this code, revisit.\n",
    "for col in categorical_features:\n",
    "    print(col)\n",
    "    hold_out_mod[col] = hold_out_mod[col].astype(str)\n",
    "    le = label_encoders[col]\n",
    "    try:\n",
    "        hold_out_mod[col] = le.transform(hold_out_mod[col])\n",
    "    except:\n",
    "        print(\"\\t(new fit)\")\n",
    "        hold_out_mod[col] = le.fit_transform(hold_out_mod[col])"
   ]
  },
  {
   "cell_type": "code",
   "execution_count": 23,
   "metadata": {},
   "outputs": [],
   "source": [
    "# Only keep columns used in training\n",
    "hold_out_mod = hold_out_mod[X_train.columns]"
   ]
  },
  {
   "cell_type": "code",
   "execution_count": 24,
   "metadata": {},
   "outputs": [
    {
     "data": {
      "text/plain": [
       "Index(['generic_score', 'generic_score2', 'generic_score3', 'generic_score4',\n",
       "       'income_trend_score', 'indebtedness_score', 'loan_amount', 'loan_term',\n",
       "       'aggregator_group', 'age', 'region', 'social_accounts', 'social_score',\n",
       "       'job_sector', 'associate_flag', 'mortgage_flag', 'num_searches',\n",
       "       'num_accounts_closed', 'num_transactions', 'num_pi_records',\n",
       "       'num_months_since_last_default', 'num_settled_good',\n",
       "       'num_settled_good_l6m', 'num_delinquents', 'num_of_revolving_accounts',\n",
       "       'generic_score_missing', 'generic_score3_category',\n",
       "       'generic_score4_abs', 'num_searches_missing', 'has_pi_record',\n",
       "       'num_months_pi_recorded_indicator', 'num_defaults_log',\n",
       "       'num_of_revolving_accounts_missing'],\n",
       "      dtype='object')"
      ]
     },
     "execution_count": 24,
     "metadata": {},
     "output_type": "execute_result"
    }
   ],
   "source": [
    "hold_out_mod.columns"
   ]
  },
  {
   "cell_type": "markdown",
   "metadata": {},
   "source": [
    "## Log Reg"
   ]
  },
  {
   "cell_type": "code",
   "execution_count": 25,
   "metadata": {},
   "outputs": [
    {
     "name": "stdout",
     "output_type": "stream",
     "text": [
      "[INFO] creating woe binning ...\n"
     ]
    },
    {
     "name": "stderr",
     "output_type": "stream",
     "text": [
      "c:\\Users\\Faisal\\anaconda3\\lib\\site-packages\\scorecardpy\\condition_fun.py:43: UserWarning: There are 1 date/time type columns are removed from input dataset. \n",
      " (ColumnNames: application_date)\n",
      "  warnings.warn(\"There are {} date/time type columns are removed from input dataset. \\n (ColumnNames: {})\".format(len(datetime_cols), ', '.join(datetime_cols)))\n"
     ]
    },
    {
     "name": "stdout",
     "output_type": "stream",
     "text": [
      "Binning on 18352 rows and 38 columns in 00:00:19\n",
      "[INFO] converting into woe values ...\n"
     ]
    }
   ],
   "source": [
    "# Convert logistic regression to scorecard\n",
    "bins = sc.woebin(samples, y='outcome', method='tree')\n",
    "# logit_model = sc.scorecard(bins, model=log_reg, xcolumns=X_train.columns, points0=500, pdo=100)\n",
    "X_woe = sc.woebin_ply(X[hold_out_mod.columns], bins)\n",
    "logit_model = sc.scorecard(bins, model=log_reg, xcolumns=hold_out_mod.columns, points0=500, pdo=100)"
   ]
  },
  {
   "cell_type": "markdown",
   "metadata": {},
   "source": [
    "## LightGBM"
   ]
  },
  {
   "cell_type": "code",
   "execution_count": 26,
   "metadata": {},
   "outputs": [],
   "source": [
    "# Predict scores\n",
    "X_train['lgbm_score'] = lgbm.predict(X_train)\n",
    "X_test['lgbm_score'] = lgbm.predict(X_test)\n",
    "hold_out_mod['lgbm_score'] = lgbm.predict(hold_out_mod)\n",
    "# Note: Booster version of LGBM used here rather than Classifier as we are doing binary classification, so 'predict' used gives probabilities of class 1, rather than using 'predict_proba' with the Classifier version that would give probabilities of each class"
   ]
  },
  {
   "cell_type": "code",
   "execution_count": 27,
   "metadata": {},
   "outputs": [],
   "source": [
    "# Convert to log-odds\n",
    "hold_out_mod['log_odds'] = np.log(hold_out_mod['lgbm_score'] / (1 - hold_out_mod['lgbm_score']))\n",
    "\n",
    "# Convert to scorecard\n",
    "pdo = 100\n",
    "points0 = 500\n",
    "factor = pdo / np.log(2)\n",
    "hold_out_mod['lgbm_credit_score'] = points0 - factor * hold_out_mod['log_odds']\n",
    "hold_out_mod['lgbm_credit_score'] = [int(x) for x in hold_out_mod['lgbm_credit_score']]"
   ]
  },
  {
   "cell_type": "markdown",
   "metadata": {},
   "source": [
    "# Threshold and Decision"
   ]
  },
  {
   "cell_type": "code",
   "execution_count": 28,
   "metadata": {},
   "outputs": [],
   "source": [
    "# Define acceptance threshold\n",
    "accept_threshold = 750\n",
    "hold_out_mod['decision'] = hold_out_mod['lgbm_credit_score'].apply(lambda x: 'Accept' if x >= accept_threshold else 'Reject')"
   ]
  },
  {
   "cell_type": "code",
   "execution_count": 29,
   "metadata": {},
   "outputs": [
    {
     "data": {
      "image/png": "[encoded data removed]",
      "text/plain": [
       "<Figure size 720x360 with 1 Axes>"
      ]
     },
     "metadata": {
      "needs_background": "light"
     },
     "output_type": "display_data"
    }
   ],
   "source": [
    "# Plot score distributions\n",
    "plt.figure(figsize=(10, 5))\n",
    "sns.histplot(hold_out_mod['lgbm_credit_score'], bins=50, kde=True, color='blue', label='LGBM Score')\n",
    "plt.axvline(x=accept_threshold, color='red', linestyle='--', label='Accept Threshold')\n",
    "plt.legend()\n",
    "plt.title(\"LightGBM Credit Score Distribution\")\n",
    "plt.show()"
   ]
  },
  {
   "cell_type": "markdown",
   "metadata": {},
   "source": [
    "## Write out"
   ]
  },
  {
   "cell_type": "code",
   "execution_count": 30,
   "metadata": {},
   "outputs": [],
   "source": [
    "# Save predictions\n",
    "hold_out_mod[['lgbm_score', 'lgbm_credit_score', 'decision']].to_csv(data_loc + 'hold_out_predictions.csv', index=False)"
   ]
  },
  {
   "cell_type": "markdown",
   "metadata": {},
   "source": [
    "# Performance on Test Set"
   ]
  },
  {
   "cell_type": "code",
   "execution_count": 31,
   "metadata": {},
   "outputs": [],
   "source": [
    "# Get test scores and decision\n",
    "X_test['log_odds'] = np.log(X_test['lgbm_score'] / (1 - X_test['lgbm_score']))\n",
    "X_test['lgbm_credit_score'] = points0 - factor * X_test['log_odds']\n",
    "X_test['lgbm_credit_score'] = [int(x) for x in X_test['lgbm_credit_score']]\n",
    "X_test['decision'] = X_test['lgbm_credit_score'].apply(lambda x: 'Accept' if x >= accept_threshold else 'Reject')\n",
    "\n",
    "# Get outcomes of test set\n",
    "X_test['outcome'] = samples['outcome']"
   ]
  },
  {
   "cell_type": "code",
   "execution_count": 32,
   "metadata": {},
   "outputs": [
    {
     "data": {
      "image/png": "[encoded data removed]",
      "text/plain": [
       "<Figure size 432x360 with 2 Axes>"
      ]
     },
     "metadata": {
      "needs_background": "light"
     },
     "output_type": "display_data"
    },
    {
     "name": "stdout",
     "output_type": "stream",
     "text": [
      "Accuracy: 0.7864\n",
      "Precision: 0.2902\n",
      "Recall: 0.5409\n",
      "F1 Score: 0.3778\n"
     ]
    }
   ],
   "source": [
    "decision_map = {'Accept': 0, 'Reject': 1}\n",
    "X_test['decision_numeric'] = X_test['decision'].map(decision_map)\n",
    "\n",
    "# Generate the confusion matrix\n",
    "conf_matrix = confusion_matrix(X_test['outcome'], X_test['decision_numeric'])\n",
    "plt.figure(figsize=(6, 5))\n",
    "sns.heatmap(conf_matrix, annot=True, fmt=\"d\", cmap=\"Blues\", xticklabels=['Accept', 'Reject'], yticklabels=['0', '1'])\n",
    "plt.xlabel('Predicted')\n",
    "plt.ylabel('Actual')\n",
    "plt.show()\n",
    "\n",
    "# Calculate performance metrics\n",
    "accuracy = accuracy_score(X_test['outcome'], X_test['decision_numeric'])\n",
    "precision = precision_score(X_test['outcome'], X_test['decision_numeric'])\n",
    "recall = recall_score(X_test['outcome'], X_test['decision_numeric'])\n",
    "f1 = f1_score(X_test['outcome'], X_test['decision_numeric'])\n",
    "\n",
    "print(f\"Accuracy: {accuracy:.4f}\")\n",
    "print(f\"Precision: {precision:.4f}\")\n",
    "print(f\"Recall: {recall:.4f}\")\n",
    "print(f\"F1 Score: {f1:.4f}\")"
   ]
  },
  {
   "cell_type": "markdown",
   "metadata": {},
   "source": [
    "## Further performance metrics"
   ]
  },
  {
   "cell_type": "markdown",
   "metadata": {},
   "source": [
    "**Evaluation using AUC or Gini**  \n",
    "AUC thresholds:  \n",
    " - 0.8–0.9  Good ability to classify default probability  \n",
    " - 0.7–0.8  Acceptable level of discrimination  \n",
    " - 0.6–0.7  Low ability to identify potential defaults  \n",
    "  \n",
    "Gini thresholds:  \n",
    " - 0.5-0.6  Good model  \n",
    " - 0.6-0.7  Very good model  \n",
    " - 0.7+     Excellent model  "
   ]
  },
  {
   "cell_type": "markdown",
   "metadata": {},
   "source": [
    "The ROC Curve (Receiver Operating Characteristic Curve) plots the True Positive Rate (TPR) against the False Positive Rate (FPR).  \n",
    "The AUC (Area Under the Curve) is the area under this curve, giving an intuitive view of model separability."
   ]
  },
  {
   "cell_type": "code",
   "execution_count": 35,
   "metadata": {},
   "outputs": [
    {
     "name": "stdout",
     "output_type": "stream",
     "text": [
      "AUC: 0.76\n"
     ]
    },
    {
     "data": {
      "image/png": "[encoded data removed]",
      "text/plain": [
       "<Figure size 576x432 with 1 Axes>"
      ]
     },
     "metadata": {
      "needs_background": "light"
     },
     "output_type": "display_data"
    }
   ],
   "source": [
    "# Calculate ROC\n",
    "fpr, tpr, _ = roc_curve(X_test['outcome'], X_test['lgbm_score'])\n",
    "auc = roc_auc_score(X_test['outcome'], X_test['lgbm_score'])\n",
    "\n",
    "print(f\"AUC: {auc:.2f}\")\n",
    "\n",
    "# Plot ROC curve\n",
    "plt.figure(figsize=(8, 6))\n",
    "plt.plot(fpr, tpr, label=f'ROC Curve (AUC = {auc:.2f})', linewidth=2)\n",
    "plt.plot([0, 1], [0, 1], linestyle='--', color='gray')  # Random model reference\n",
    "plt.xlabel('False Positive Rate')\n",
    "plt.ylabel('True Positive Rate')\n",
    "plt.title('Receiver Operating Characteristic (ROC) Curve')\n",
    "plt.legend()\n",
    "plt.grid()\n",
    "plt.show()"
   ]
  },
  {
   "cell_type": "markdown",
   "metadata": {},
   "source": [
    "The Lorenz Curve (Cumulative Gains Curve) shows the cumulative proportion of positive cases captured by the model.  \n",
    "The Gini coefficient is the area between the Lorenz curve and the diagonal line."
   ]
  },
  {
   "cell_type": "code",
   "execution_count": 36,
   "metadata": {},
   "outputs": [
    {
     "name": "stdout",
     "output_type": "stream",
     "text": [
      "Gini: 0.52\n"
     ]
    },
    {
     "data": {
      "image/png": "[encoded data removed]",
      "text/plain": [
       "<Figure size 576x432 with 1 Axes>"
      ]
     },
     "metadata": {
      "needs_background": "light"
     },
     "output_type": "display_data"
    }
   ],
   "source": [
    "# Sort actual values by predicted score\n",
    "sorted_indices = np.argsort(X_test['lgbm_score'])\n",
    "sorted_actuals = X_test['outcome'].iloc[sorted_indices].values\n",
    "\n",
    "# Calculate cumulative gains\n",
    "cum_actuals = np.cumsum(sorted_actuals) / np.sum(sorted_actuals)\n",
    "cum_population = np.arange(1, len(sorted_actuals) + 1) / len(sorted_actuals)\n",
    "\n",
    "# Gini calculation\n",
    "gini = 2 * auc - 1\n",
    "print(f\"Gini: {gini:.2f}\")\n",
    "\n",
    "# Plot Lorenz curve\n",
    "plt.figure(figsize=(8, 6))\n",
    "plt.plot(cum_population, cum_actuals, label=f'Lorenz Curve (Gini = {gini:.2f})', linewidth=2)\n",
    "plt.plot([0, 1], [0, 1], linestyle='--', color='gray')  # Line of equality\n",
    "plt.xlabel('Cumulative Population')\n",
    "plt.ylabel('Cumulative Positive Cases')\n",
    "plt.title('Lorenz Curve')\n",
    "plt.legend()\n",
    "plt.grid()\n",
    "plt.show()"
   ]
  }
 ],
 "metadata": {
  "kernelspec": {
   "display_name": "base",
   "language": "python",
   "name": "python3"
  },
  "language_info": {
   "codemirror_mode": {
    "name": "ipython",
    "version": 3
   },
   "file_extension": ".py",
   "mimetype": "text/x-python",
   "name": "python",
   "nbconvert_exporter": "python",
   "pygments_lexer": "ipython3",
   "version": "3.8.3"
  }
 },
 "nbformat": 4,
 "nbformat_minor": 2
}
